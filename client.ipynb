{
 "cells": [
  {
   "cell_type": "code",
   "execution_count": 1,
   "metadata": {},
   "outputs": [],
   "source": [
    "# client program\n",
    "import socket\n",
    "import cv2\n",
    "import pickle\n",
    "import struct"
   ]
  },
  {
   "cell_type": "code",
   "execution_count": 2,
   "metadata": {},
   "outputs": [],
   "source": [
    "s = socket.socket(socket.AF_INET, socket.SOCK_STREAM)"
   ]
  },
  {
   "cell_type": "code",
   "execution_count": 3,
   "metadata": {},
   "outputs": [],
   "source": [
    "# socket bind\n",
    "s.connect( (\"192.168.90.134\",2134) )"
   ]
  },
  {
   "cell_type": "code",
   "execution_count": 4,
   "metadata": {},
   "outputs": [],
   "source": [
    "size = struct.calcsize(\"Q\")"
   ]
  },
  {
   "cell_type": "code",
   "execution_count": 5,
   "metadata": {},
   "outputs": [],
   "source": [
    "data = b\"\"\n",
    "while True:\n",
    "    while len(data) < size:\n",
    "        packet = s.recv(4*1024) \n",
    "        if not packet: \n",
    "            cv2.destroyAllWindows()\n",
    "            s.close()\n",
    "            break\n",
    "            \n",
    "        data+=packet\n",
    "    data_size = data[:size]\n",
    "    data = data[size:]\n",
    "    msg_size = struct.unpack(\"Q\",data_size)[0]\n",
    "    while len(data) < msg_size:\n",
    "        data += s.recv(4*1024)\n",
    "    photo_data = data[:msg_size]\n",
    "    data  = data[msg_size:]\n",
    "    photo = pickle.loads(photo_data)\n",
    "    cv2.imshow(\"Streaming Video\",photo)\n",
    "    if cv2.waitKey(1) == 13:     \n",
    "        break\n",
    "\n",
    "s.close()\n",
    "cv2.destroyAllWindows()"
   ]
  },
  {
   "cell_type": "code",
   "execution_count": null,
   "metadata": {},
   "outputs": [],
   "source": []
  }
 ],
 "metadata": {
  "kernelspec": {
   "display_name": "Python 3",
   "language": "python",
   "name": "python3"
  },
  "language_info": {
   "codemirror_mode": {
    "name": "ipython",
    "version": 3
   },
   "file_extension": ".py",
   "mimetype": "text/x-python",
   "name": "python",
   "nbconvert_exporter": "python",
   "pygments_lexer": "ipython3",
   "version": "3.8.3"
  }
 },
 "nbformat": 4,
 "nbformat_minor": 4
}
